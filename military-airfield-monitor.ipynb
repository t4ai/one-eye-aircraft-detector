{
 "cells": [
  {
   "cell_type": "markdown",
   "metadata": {},
   "source": [
    "# OneEye: Military Airfiled Monitoring with Computer Vision\n",
    "## AAI-521 Team 1 Final Project\n",
    "\n",
    "Team 1:  Tyler Foreman\n",
    "\n",
    "University of San Diego, Applied Artificial Intelligence\n",
    "\n",
    "Date:  December 11, 2023\n",
    "\n",
    "GitHub Repository: https://github.com/t4ai/one-eye-aircraft-detector"
   ]
  },
  {
   "cell_type": "code",
   "execution_count": 5,
   "metadata": {},
   "outputs": [],
   "source": [
    "# import base libraries\n",
    "import cv2\n",
    "import numpy as np\n",
    "import matplotlib.pyplot as plt\n",
    "import tensorflow as tf\n",
    "import os\n",
    "import pathlib\n",
    "import PIL\n",
    "import PIL.Image\n",
    "import xml.etree.ElementTree as ET\n",
    "\n",
    "# import keras and supporting libraries\n",
    "import keras\n",
    "from tensorflow.keras.layers import MaxPooling2D, AveragePooling2D\n",
    "from keras.datasets import mnist, cifar10\n",
    "from keras.models import Sequential, Model\n",
    "from keras.layers import Dense, Dropout, Flatten, Activation, Input\n",
    "from keras.layers import Conv2D\n",
    "from keras.layers import BatchNormalization\n",
    "from keras.utils import to_categorical\n",
    "from keras.layers import Dense\n",
    "from keras import optimizers\n",
    "from tensorflow.keras.optimizers import SGD, Adam\n",
    "from keras.preprocessing.image import ImageDataGenerator\n",
    "from keras import backend as K"
   ]
  },
  {
   "cell_type": "markdown",
   "metadata": {},
   "source": [
    "## Exploratory Data Analysis\n",
    "\n",
    "Scan the images and bounding box labels to understand the nature of the dataset.  Objectives are:\n",
    "\n",
    "1.  Understand the distribution of image sizes\n",
    "2.  Understand the distribution of image channels\n",
    "3.  Analyze the class balances and representation across the dataset\n",
    "4.  Visualize sample images with horizontal bounding boxes overlaid\n",
    "5.  Visualize sample images with oriented bounding boxes overlaid"
   ]
  },
  {
   "cell_type": "code",
   "execution_count": 6,
   "metadata": {},
   "outputs": [
    {
     "name": "stdout",
     "output_type": "stream",
     "text": [
      "Downloading data from https://storage.googleapis.com/download.tensorflow.org/example_images/flower_photos.tgz\n",
      "228813984/228813984 [==============================] - 13s 0us/step\n"
     ]
    },
    {
     "data": {
      "text/plain": [
       "PosixPath('/Users/tylerforeman/.keras/datasets/flower_photos')"
      ]
     },
     "execution_count": 6,
     "metadata": {},
     "output_type": "execute_result"
    }
   ],
   "source": [
    "dataset_url = \"https://storage.googleapis.com/download.tensorflow.org/example_images/flower_photos.tgz\"\n",
    "archive = tf.keras.utils.get_file(origin=dataset_url, extract=True)\n",
    "data_dir = pathlib.Path(archive).with_suffix('')\n",
    "data_dir"
   ]
  },
  {
   "cell_type": "code",
   "execution_count": null,
   "metadata": {},
   "outputs": [],
   "source": [
    "data_dir = pathlib.Path(archive).with_suffix('')"
   ]
  },
  {
   "cell_type": "code",
   "execution_count": null,
   "metadata": {},
   "outputs": [],
   "source": [
    "# helper function to read image files and extract dimensions\n",
    "def analyze_image_dimensions(image_path):\n",
    "    imgs = list(data_dir.glob(image_path))\n",
    "    for img in imgs:\n",
    "        PIL.Image.open(str(img))"
   ]
  }
 ],
 "metadata": {
  "kernelspec": {
   "display_name": "base-ml",
   "language": "python",
   "name": "python3"
  },
  "language_info": {
   "codemirror_mode": {
    "name": "ipython",
    "version": 3
   },
   "file_extension": ".py",
   "mimetype": "text/x-python",
   "name": "python",
   "nbconvert_exporter": "python",
   "pygments_lexer": "ipython3",
   "version": "3.11.3"
  }
 },
 "nbformat": 4,
 "nbformat_minor": 2
}
